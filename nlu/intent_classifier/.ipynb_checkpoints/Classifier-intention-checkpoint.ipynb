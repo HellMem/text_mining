{
 "cells": [
  {
   "cell_type": "code",
   "execution_count": 1,
   "metadata": {},
   "outputs": [],
   "source": [
    "#text classification-models-\n",
    "#sentiment classification\n",
    "#https://realpython.com/python-keras-text-classification/\n",
    "#Dataset    "
   ]
  },
  {
   "cell_type": "code",
   "execution_count": 2,
   "metadata": {},
   "outputs": [],
   "source": [
    "#https://archive.ics.uci.edu/ml/datasets/Sentiment+Labelled+Sentences"
   ]
  },
  {
   "cell_type": "code",
   "execution_count": 3,
   "metadata": {},
   "outputs": [
    {
     "name": "stdout",
     "output_type": "stream",
     "text": [
      "(1113, 3)\n",
      "sentence    Is this a bot?\n",
      "label                    1\n",
      "source           questions\n",
      "Name: 20, dtype: object\n"
     ]
    }
   ],
   "source": [
    "import pandas as pd\n",
    "\n",
    "filepath_dict = {'questions':   'data/intention_data/Dataset_classInt.csv'}\n",
    "\n",
    "                 \n",
    "df_list = []\n",
    "for source, filepath in filepath_dict.items():\n",
    "    df = pd.read_csv(filepath, encoding = \"latin1\",names=['sentence', 'label'], sep=',')\n",
    "    df['source'] = source  # Add another column filled with the source name\n",
    "    df_list.append(df)\n",
    "\n",
    "df = pd.concat(df_list)\n",
    "print(df.shape)\n",
    "print(df.iloc[20])"
   ]
  },
  {
   "cell_type": "code",
   "execution_count": 4,
   "metadata": {},
   "outputs": [
    {
     "name": "stdout",
     "output_type": "stream",
     "text": [
      "1113\n"
     ]
    }
   ],
   "source": [
    "#Basic classifier\n",
    "from sklearn.model_selection import train_test_split\n",
    "from sklearn.feature_extraction.text import CountVectorizer\n",
    "\n",
    "#select only df_yelp\n",
    "\n",
    "sentences = df['sentence'].values\n",
    "y = df['label'].values\n",
    "print(len(y))"
   ]
  },
  {
   "cell_type": "code",
   "execution_count": 5,
   "metadata": {},
   "outputs": [],
   "source": [
    "sentences_train, sentences_test, y_train, y_test = train_test_split(sentences, y, test_size=0.25, random_state=1000)"
   ]
  },
  {
   "cell_type": "code",
   "execution_count": 6,
   "metadata": {},
   "outputs": [
    {
     "data": {
      "text/plain": [
       "<834x436 sparse matrix of type '<class 'numpy.int64'>'\n",
       "\twith 5784 stored elements in Compressed Sparse Row format>"
      ]
     },
     "execution_count": 6,
     "metadata": {},
     "output_type": "execute_result"
    }
   ],
   "source": [
    "#create td-idf vectors\n",
    "from sklearn.feature_extraction.text import CountVectorizer\n",
    "vectorizer = CountVectorizer()\n",
    "vectorizer.fit(sentences_train)\n",
    "\n",
    "#add feature for test\n",
    "X_train = vectorizer.transform(sentences_train)\n",
    "X_test  = vectorizer.transform(sentences_test)\n",
    "X_train"
   ]
  },
  {
   "cell_type": "code",
   "execution_count": 8,
   "metadata": {},
   "outputs": [
    {
     "name": "stdout",
     "output_type": "stream",
     "text": [
      "Accuracy: 0.921146953405018\n",
      "              precision    recall  f1-score   support\n",
      "\n",
      "           0       0.60      1.00      0.75         3\n",
      "           1       1.00      0.75      0.86         8\n",
      "           3       1.00      1.00      1.00         1\n",
      "           4       1.00      0.67      0.80         3\n",
      "           5       0.00      0.00      0.00         1\n",
      "           6       1.00      1.00      1.00         2\n",
      "           7       1.00      0.50      0.67         2\n",
      "           8       0.81      0.97      0.89        36\n",
      "           9       1.00      1.00      1.00        12\n",
      "          10       1.00      1.00      1.00        15\n",
      "          11       0.91      0.93      0.92        54\n",
      "          12       0.85      0.79      0.81        14\n",
      "          13       1.00      1.00      1.00        20\n",
      "          14       0.00      0.00      0.00         1\n",
      "          15       1.00      0.92      0.96        12\n",
      "          16       0.86      1.00      0.92        12\n",
      "          17       0.93      0.72      0.81        18\n",
      "          18       0.96      0.96      0.96        23\n",
      "          19       0.95      1.00      0.97        18\n",
      "          20       1.00      0.96      0.98        24\n",
      "\n",
      "    accuracy                           0.92       279\n",
      "   macro avg       0.84      0.81      0.81       279\n",
      "weighted avg       0.92      0.92      0.92       279\n",
      "\n",
      "[[ 3  0  0  0  0  0  0  0  0  0  0  0  0  0  0  0  0  0  0  0]\n",
      " [ 0  6  0  0  0  0  0  2  0  0  0  0  0  0  0  0  0  0  0  0]\n",
      " [ 0  0  1  0  0  0  0  0  0  0  0  0  0  0  0  0  0  0  0  0]\n",
      " [ 0  0  0  2  0  0  0  1  0  0  0  0  0  0  0  0  0  0  0  0]\n",
      " [ 0  0  0  0  0  0  0  1  0  0  0  0  0  0  0  0  0  0  0  0]\n",
      " [ 0  0  0  0  0  2  0  0  0  0  0  0  0  0  0  0  0  0  0  0]\n",
      " [ 0  0  0  0  0  0  1  1  0  0  0  0  0  0  0  0  0  0  0  0]\n",
      " [ 1  0  0  0  0  0  0 35  0  0  0  0  0  0  0  0  0  0  0  0]\n",
      " [ 0  0  0  0  0  0  0  0 12  0  0  0  0  0  0  0  0  0  0  0]\n",
      " [ 0  0  0  0  0  0  0  0  0 15  0  0  0  0  0  0  0  0  0  0]\n",
      " [ 0  0  0  0  0  0  0  0  0  0 50  2  0  0  0  0  1  0  1  0]\n",
      " [ 0  0  0  0  0  0  0  0  0  0  3 11  0  0  0  0  0  0  0  0]\n",
      " [ 0  0  0  0  0  0  0  0  0  0  0  0 20  0  0  0  0  0  0  0]\n",
      " [ 1  0  0  0  0  0  0  0  0  0  0  0  0  0  0  0  0  0  0  0]\n",
      " [ 0  0  0  0  0  0  0  0  0  0  0  0  0  0 11  1  0  0  0  0]\n",
      " [ 0  0  0  0  0  0  0  0  0  0  0  0  0  0  0 12  0  0  0  0]\n",
      " [ 0  0  0  0  0  0  0  2  0  0  1  0  0  0  0  1 13  1  0  0]\n",
      " [ 0  0  0  0  0  0  0  1  0  0  0  0  0  0  0  0  0 22  0  0]\n",
      " [ 0  0  0  0  0  0  0  0  0  0  0  0  0  0  0  0  0  0 18  0]\n",
      " [ 0  0  0  0  0  0  0  0  0  0  1  0  0  0  0  0  0  0  0 23]]\n",
      "[0 8 4]\n"
     ]
    }
   ],
   "source": [
    "#classify with logisticRegresion\n",
    "from sklearn.linear_model import LogisticRegression\n",
    "classifier = LogisticRegression()\n",
    "classifier.fit(X_train, y_train)\n",
    "score = classifier.score(X_test, y_test)\n",
    "print(\"Accuracy:\", score)\n",
    "\n",
    "y_pred = classifier.predict(X_test)\n",
    "y_pred\n",
    "\n",
    "from sklearn.metrics import classification_report\n",
    "print(classification_report(y_test, y_pred))\n",
    "\n",
    "from sklearn.metrics import confusion_matrix\n",
    "print(confusion_matrix(y_test, y_pred))\n",
    "\n",
    "test_sentences = vectorizer.transform(['could you help me ?','please tell me your phone','could you tell me your name please'])\n",
    "print(logistic_classifier.predict(test_sentences))"
   ]
  },
  {
   "cell_type": "code",
   "execution_count": 9,
   "metadata": {},
   "outputs": [
    {
     "name": "stdout",
     "output_type": "stream",
     "text": [
      "Accuracy: 0.8745519713261649\n",
      "              precision    recall  f1-score   support\n",
      "\n",
      "           0       0.60      1.00      0.75         3\n",
      "           1       0.80      0.50      0.62         8\n",
      "           2       0.00      0.00      0.00         0\n",
      "           3       1.00      1.00      1.00         1\n",
      "           4       1.00      0.67      0.80         3\n",
      "           5       0.00      0.00      0.00         1\n",
      "           6       0.67      1.00      0.80         2\n",
      "           7       1.00      1.00      1.00         2\n",
      "           8       0.79      0.86      0.83        36\n",
      "           9       1.00      0.92      0.96        12\n",
      "          10       1.00      1.00      1.00        15\n",
      "          11       0.83      0.93      0.88        54\n",
      "          12       0.72      0.93      0.81        14\n",
      "          13       1.00      0.95      0.97        20\n",
      "          14       0.00      0.00      0.00         1\n",
      "          15       1.00      0.83      0.91        12\n",
      "          16       0.92      1.00      0.96        12\n",
      "          17       0.87      0.72      0.79        18\n",
      "          18       0.95      0.78      0.86        23\n",
      "          19       1.00      0.83      0.91        18\n",
      "          20       0.92      0.96      0.94        24\n",
      "\n",
      "    accuracy                           0.87       279\n",
      "   macro avg       0.77      0.76      0.75       279\n",
      "weighted avg       0.88      0.87      0.87       279\n",
      "\n",
      "[[ 3  0  0  0  0  0  0  0  0  0  0  0  0  0  0  0  0  0  0  0  0]\n",
      " [ 0  4  0  0  0  0  0  0  4  0  0  0  0  0  0  0  0  0  0  0  0]\n",
      " [ 0  0  0  0  0  0  0  0  0  0  0  0  0  0  0  0  0  0  0  0  0]\n",
      " [ 0  0  0  1  0  0  0  0  0  0  0  0  0  0  0  0  0  0  0  0  0]\n",
      " [ 1  0  0  0  2  0  0  0  0  0  0  0  0  0  0  0  0  0  0  0  0]\n",
      " [ 0  0  0  0  0  0  0  0  0  0  0  0  0  0  0  0  1  0  0  0  0]\n",
      " [ 0  0  0  0  0  0  2  0  0  0  0  0  0  0  0  0  0  0  0  0  0]\n",
      " [ 0  0  0  0  0  0  0  2  0  0  0  0  0  0  0  0  0  0  0  0  0]\n",
      " [ 0  1  1  0  0  1  1  0 31  0  0  0  1  0  0  0  0  0  0  0  0]\n",
      " [ 0  0  0  0  0  0  0  0  1 11  0  0  0  0  0  0  0  0  0  0  0]\n",
      " [ 0  0  0  0  0  0  0  0  0  0 15  0  0  0  0  0  0  0  0  0  0]\n",
      " [ 0  0  0  0  0  0  0  0  0  0  0 50  4  0  0  0  0  0  0  0  0]\n",
      " [ 0  0  0  0  0  0  0  0  0  0  0  1 13  0  0  0  0  0  0  0  0]\n",
      " [ 0  0  0  0  0  0  0  0  0  0  0  1  0 19  0  0  0  0  0  0  0]\n",
      " [ 1  0  0  0  0  0  0  0  0  0  0  0  0  0  0  0  0  0  0  0  0]\n",
      " [ 0  0  0  0  0  0  0  0  0  0  0  2  0  0  0 10  0  0  0  0  0]\n",
      " [ 0  0  0  0  0  0  0  0  0  0  0  0  0  0  0  0 12  0  0  0  0]\n",
      " [ 0  0  0  0  0  0  0  0  3  0  0  2  0  0  0  0  0 13  0  0  0]\n",
      " [ 0  0  0  0  0  0  0  0  0  0  0  3  0  0  0  0  0  2 18  0  0]\n",
      " [ 0  0  0  0  0  0  0  0  0  0  0  1  0  0  0  0  0  0  0 15  2]\n",
      " [ 0  0  0  0  0  0  0  0  0  0  0  0  0  0  0  0  0  0  1  0 23]]\n",
      "[0 8 4]\n"
     ]
    },
    {
     "name": "stderr",
     "output_type": "stream",
     "text": [
      "c:\\users\\memo_\\documents\\proyectos\\python\\text_mining\\text_mining_venv\\lib\\site-packages\\sklearn\\ensemble\\forest.py:245: FutureWarning: The default value of n_estimators will change from 10 in version 0.20 to 100 in 0.22.\n",
      "  \"10 in version 0.20 to 100 in 0.22.\", FutureWarning)\n",
      "c:\\users\\memo_\\documents\\proyectos\\python\\text_mining\\text_mining_venv\\lib\\site-packages\\sklearn\\metrics\\classification.py:1437: UndefinedMetricWarning: Precision and F-score are ill-defined and being set to 0.0 in labels with no predicted samples.\n",
      "  'precision', 'predicted', average, warn_for)\n",
      "c:\\users\\memo_\\documents\\proyectos\\python\\text_mining\\text_mining_venv\\lib\\site-packages\\sklearn\\metrics\\classification.py:1439: UndefinedMetricWarning: Recall and F-score are ill-defined and being set to 0.0 in labels with no true samples.\n",
      "  'recall', 'true', average, warn_for)\n"
     ]
    }
   ],
   "source": [
    "# Random Forest Classification\n",
    "from sklearn.ensemble import RandomForestClassifier\n",
    "classifier = RandomForestClassifier()\n",
    "classifier.fit(X_train, y_train)\n",
    "score = classifier.score(X_test, y_test)\n",
    "print(\"Accuracy:\", score)\n",
    "\n",
    "y_pred = classifier.predict(X_test)\n",
    "y_pred\n",
    "\n",
    "from sklearn.metrics import classification_report\n",
    "print(classification_report(y_test, y_pred))\n",
    "\n",
    "from sklearn.metrics import confusion_matrix\n",
    "print(confusion_matrix(y_test, y_pred))\n",
    "\n",
    "test_sentences = vectorizer.transform(['could you help me ?','please tell me your phone','could you tell me your name please'])\n",
    "print(logistic_classifier.predict(test_sentences))"
   ]
  },
  {
   "cell_type": "code",
   "execution_count": 11,
   "metadata": {},
   "outputs": [
    {
     "name": "stdout",
     "output_type": "stream",
     "text": [
      "Accuracy: 0.8709677419354839\n",
      "              precision    recall  f1-score   support\n",
      "\n",
      "           0       0.67      0.67      0.67         3\n",
      "           1       1.00      0.38      0.55         8\n",
      "           3       0.00      0.00      0.00         1\n",
      "           4       1.00      0.33      0.50         3\n",
      "           5       0.00      0.00      0.00         1\n",
      "           6       0.00      0.00      0.00         2\n",
      "           7       0.00      0.00      0.00         2\n",
      "           8       0.81      0.97      0.89        36\n",
      "           9       1.00      0.83      0.91        12\n",
      "          10       0.94      1.00      0.97        15\n",
      "          11       0.80      0.94      0.86        54\n",
      "          12       0.90      0.64      0.75        14\n",
      "          13       0.95      1.00      0.98        20\n",
      "          14       0.00      0.00      0.00         1\n",
      "          15       1.00      0.92      0.96        12\n",
      "          16       0.86      1.00      0.92        12\n",
      "          17       0.93      0.78      0.85        18\n",
      "          18       0.77      0.87      0.82        23\n",
      "          19       0.94      0.94      0.94        18\n",
      "          20       0.96      0.96      0.96        24\n",
      "\n",
      "    accuracy                           0.87       279\n",
      "   macro avg       0.68      0.61      0.63       279\n",
      "weighted avg       0.86      0.87      0.85       279\n",
      "\n",
      "[[ 2  0  0  0  0  0  0  0  0  0  0  0  0  0  0  0  0  1  0  0]\n",
      " [ 0  3  0  0  0  0  0  3  0  0  1  0  0  0  0  0  0  1  0  0]\n",
      " [ 0  0  0  0  0  0  0  0  0  0  0  0  0  0  0  0  0  1  0  0]\n",
      " [ 0  0  0  1  0  0  0  2  0  0  0  0  0  0  0  0  0  0  0  0]\n",
      " [ 0  0  0  0  0  0  0  0  0  1  0  0  0  0  0  0  0  0  0  0]\n",
      " [ 0  0  0  0  0  0  0  1  0  0  0  0  0  0  0  0  0  1  0  0]\n",
      " [ 0  0  0  0  0  0  0  1  0  0  1  0  0  0  0  0  0  0  0  0]\n",
      " [ 0  0  0  0  0  0  0 35  0  0  1  0  0  0  0  0  0  0  0  0]\n",
      " [ 0  0  0  0  0  0  0  0 10  0  1  0  1  0  0  0  0  0  0  0]\n",
      " [ 0  0  0  0  0  0  0  0  0 15  0  0  0  0  0  0  0  0  0  0]\n",
      " [ 0  0  0  0  0  0  0  0  0  0 51  1  0  0  0  0  1  0  1  0]\n",
      " [ 0  0  0  0  0  0  0  0  0  0  5  9  0  0  0  0  0  0  0  0]\n",
      " [ 0  0  0  0  0  0  0  0  0  0  0  0 20  0  0  0  0  0  0  0]\n",
      " [ 1  0  0  0  0  0  0  0  0  0  0  0  0  0  0  0  0  0  0  0]\n",
      " [ 0  0  0  0  0  0  0  0  0  0  0  0  0  0 11  1  0  0  0  0]\n",
      " [ 0  0  0  0  0  0  0  0  0  0  0  0  0  0  0 12  0  0  0  0]\n",
      " [ 0  0  0  0  0  0  0  0  0  0  2  0  0  0  0  1 14  1  0  0]\n",
      " [ 0  0  0  0  0  0  0  1  0  0  1  0  0  0  0  0  0 20  0  1]\n",
      " [ 0  0  0  0  0  0  0  0  0  0  0  0  0  0  0  0  0  1 17  0]\n",
      " [ 0  0  0  0  0  0  0  0  0  0  1  0  0  0  0  0  0  0  0 23]]\n",
      "[0 8 4]\n"
     ]
    },
    {
     "name": "stderr",
     "output_type": "stream",
     "text": [
      "c:\\users\\memo_\\documents\\proyectos\\python\\text_mining\\text_mining_venv\\lib\\site-packages\\sklearn\\metrics\\classification.py:1437: UndefinedMetricWarning: Precision and F-score are ill-defined and being set to 0.0 in labels with no predicted samples.\n",
      "  'precision', 'predicted', average, warn_for)\n"
     ]
    }
   ],
   "source": [
    "# Naive Bayes Classification\n",
    "from sklearn.naive_bayes import MultinomialNB\n",
    "classifier = MultinomialNB()\n",
    "classifier.fit(X_train, y_train)\n",
    "score = classifier.score(X_test, y_test)\n",
    "print(\"Accuracy:\", score)\n",
    "\n",
    "y_pred = classifier.predict(X_test)\n",
    "y_pred\n",
    "\n",
    "from sklearn.metrics import classification_report\n",
    "print(classification_report(y_test, y_pred))\n",
    "\n",
    "from sklearn.metrics import confusion_matrix\n",
    "print(confusion_matrix(y_test, y_pred))\n",
    "\n",
    "test_sentences = vectorizer.transform(['could you help me ?','please tell me your phone','could you tell me your name please'])\n",
    "print(logistic_classifier.predict(test_sentences))"
   ]
  },
  {
   "cell_type": "code",
   "execution_count": 12,
   "metadata": {},
   "outputs": [
    {
     "name": "stdout",
     "output_type": "stream",
     "text": [
      "Accuracy: 0.9354838709677419\n",
      "              precision    recall  f1-score   support\n",
      "\n",
      "           0       0.60      1.00      0.75         3\n",
      "           1       1.00      0.88      0.93         8\n",
      "           3       1.00      1.00      1.00         1\n",
      "           4       0.67      0.67      0.67         3\n",
      "           5       1.00      1.00      1.00         1\n",
      "           6       0.67      1.00      0.80         2\n",
      "           7       1.00      1.00      1.00         2\n",
      "           8       0.94      0.94      0.94        36\n",
      "           9       1.00      1.00      1.00        12\n",
      "          10       1.00      1.00      1.00        15\n",
      "          11       0.91      0.93      0.92        54\n",
      "          12       0.81      0.93      0.87        14\n",
      "          13       1.00      1.00      1.00        20\n",
      "          14       0.00      0.00      0.00         1\n",
      "          15       1.00      0.92      0.96        12\n",
      "          16       0.86      1.00      0.92        12\n",
      "          17       0.93      0.78      0.85        18\n",
      "          18       0.95      0.91      0.93        23\n",
      "          19       1.00      1.00      1.00        18\n",
      "          20       1.00      0.96      0.98        24\n",
      "\n",
      "    accuracy                           0.94       279\n",
      "   macro avg       0.87      0.90      0.88       279\n",
      "weighted avg       0.94      0.94      0.93       279\n",
      "\n",
      "[[ 3  0  0  0  0  0  0  0  0  0  0  0  0  0  0  0  0  0  0  0]\n",
      " [ 0  7  0  1  0  0  0  0  0  0  0  0  0  0  0  0  0  0  0  0]\n",
      " [ 0  0  1  0  0  0  0  0  0  0  0  0  0  0  0  0  0  0  0  0]\n",
      " [ 0  0  0  2  0  0  0  1  0  0  0  0  0  0  0  0  0  0  0  0]\n",
      " [ 0  0  0  0  1  0  0  0  0  0  0  0  0  0  0  0  0  0  0  0]\n",
      " [ 0  0  0  0  0  2  0  0  0  0  0  0  0  0  0  0  0  0  0  0]\n",
      " [ 0  0  0  0  0  0  2  0  0  0  0  0  0  0  0  0  0  0  0  0]\n",
      " [ 1  0  0  0  0  1  0 34  0  0  0  0  0  0  0  0  0  0  0  0]\n",
      " [ 0  0  0  0  0  0  0  0 12  0  0  0  0  0  0  0  0  0  0  0]\n",
      " [ 0  0  0  0  0  0  0  0  0 15  0  0  0  0  0  0  0  0  0  0]\n",
      " [ 0  0  0  0  0  0  0  0  0  0 50  3  0  0  0  0  1  0  0  0]\n",
      " [ 0  0  0  0  0  0  0  0  0  0  1 13  0  0  0  0  0  0  0  0]\n",
      " [ 0  0  0  0  0  0  0  0  0  0  0  0 20  0  0  0  0  0  0  0]\n",
      " [ 1  0  0  0  0  0  0  0  0  0  0  0  0  0  0  0  0  0  0  0]\n",
      " [ 0  0  0  0  0  0  0  0  0  0  0  0  0  0 11  1  0  0  0  0]\n",
      " [ 0  0  0  0  0  0  0  0  0  0  0  0  0  0  0 12  0  0  0  0]\n",
      " [ 0  0  0  0  0  0  0  1  0  0  1  0  0  0  0  1 14  1  0  0]\n",
      " [ 0  0  0  0  0  0  0  0  0  0  2  0  0  0  0  0  0 21  0  0]\n",
      " [ 0  0  0  0  0  0  0  0  0  0  0  0  0  0  0  0  0  0 18  0]\n",
      " [ 0  0  0  0  0  0  0  0  0  0  1  0  0  0  0  0  0  0  0 23]]\n",
      "[0 8 4]\n"
     ]
    }
   ],
   "source": [
    "from sklearn import svm\n",
    "classifier = svm.LinearSVC()\n",
    "classifier.fit(X_train, y_train)\n",
    "score = classifier.score(X_test, y_test)\n",
    "print(\"Accuracy:\", score)\n",
    "\n",
    "y_pred = classifier.predict(X_test)\n",
    "y_pred\n",
    "\n",
    "from sklearn.metrics import classification_report\n",
    "print(classification_report(y_test, y_pred))\n",
    "\n",
    "from sklearn.metrics import confusion_matrix\n",
    "print(confusion_matrix(y_test, y_pred))\n",
    "\n",
    "test_sentences = vectorizer.transform(['could you help me ?','please tell me your phone','could you tell me your name please'])\n",
    "print(logistic_classifier.predict(test_sentences))"
   ]
  },
  {
   "cell_type": "code",
   "execution_count": null,
   "metadata": {},
   "outputs": [],
   "source": []
  }
 ],
 "metadata": {
  "kernelspec": {
   "display_name": "Python 3",
   "language": "python",
   "name": "python3"
  },
  "language_info": {
   "codemirror_mode": {
    "name": "ipython",
    "version": 3
   },
   "file_extension": ".py",
   "mimetype": "text/x-python",
   "name": "python",
   "nbconvert_exporter": "python",
   "pygments_lexer": "ipython3",
   "version": "3.6.6"
  }
 },
 "nbformat": 4,
 "nbformat_minor": 2
}
