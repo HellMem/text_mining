{
 "cells": [
  {
   "cell_type": "code",
   "execution_count": 35,
   "metadata": {},
   "outputs": [],
   "source": [
    "#text classification-models-\n",
    "#sentiment classification\n",
    "#https://realpython.com/python-keras-text-classification/\n",
    "#Dataset    "
   ]
  },
  {
   "cell_type": "code",
   "execution_count": 36,
   "metadata": {},
   "outputs": [],
   "source": [
    "#https://archive.ics.uci.edu/ml/datasets/Sentiment+Labelled+Sentences"
   ]
  },
  {
   "cell_type": "code",
   "execution_count": 37,
   "metadata": {},
   "outputs": [
    {
     "name": "stdout",
     "output_type": "stream",
     "text": [
      "(1113, 3)\n",
      "sentence    Is this a bot?\n",
      "label                    1\n",
      "source           questions\n",
      "Name: 20, dtype: object\n"
     ]
    }
   ],
   "source": [
    "import pandas as pd\n",
    "\n",
    "filepath_dict = {'questions':   'data/intention_data/Dataset_classInt.csv'}\n",
    "\n",
    "                 \n",
    "df_list = []\n",
    "for source, filepath in filepath_dict.items():\n",
    "    df = pd.read_csv(filepath, encoding = \"latin1\",names=['sentence', 'label'], sep=',')\n",
    "    df['source'] = source  # Add another column filled with the source name\n",
    "    df_list.append(df)\n",
    "\n",
    "df = pd.concat(df_list)\n",
    "print(df.shape)\n",
    "print(df.iloc[20])"
   ]
  },
  {
   "cell_type": "code",
   "execution_count": 38,
   "metadata": {},
   "outputs": [
    {
     "name": "stdout",
     "output_type": "stream",
     "text": [
      "1113\n"
     ]
    }
   ],
   "source": [
    "#Basic classifier\n",
    "from sklearn.model_selection import train_test_split\n",
    "from sklearn.feature_extraction.text import CountVectorizer\n",
    "\n",
    "#select only df_yelp\n",
    "\n",
    "sentences = df['sentence'].values\n",
    "y = df['label'].values\n",
    "print(len(y))"
   ]
  },
  {
   "cell_type": "code",
   "execution_count": 39,
   "metadata": {},
   "outputs": [],
   "source": [
    "sentences_train, sentences_test, y_train, y_test = train_test_split(sentences, y, test_size=0.25, random_state=1000)"
   ]
  },
  {
   "cell_type": "code",
   "execution_count": 40,
   "metadata": {},
   "outputs": [
    {
     "data": {
      "text/plain": [
       "<834x436 sparse matrix of type '<class 'numpy.int64'>'\n",
       "\twith 5784 stored elements in Compressed Sparse Row format>"
      ]
     },
     "execution_count": 40,
     "metadata": {},
     "output_type": "execute_result"
    }
   ],
   "source": [
    "#create td-idf vectors\n",
    "from sklearn.feature_extraction.text import CountVectorizer\n",
    "vectorizer = CountVectorizer()\n",
    "vectorizer.fit(sentences_train)\n",
    "\n",
    "#add feature for test\n",
    "X_train = vectorizer.transform(sentences_train)\n",
    "X_test  = vectorizer.transform(sentences_test)\n",
    "X_train"
   ]
  },
  {
   "cell_type": "code",
   "execution_count": 41,
   "metadata": {},
   "outputs": [
    {
     "name": "stdout",
     "output_type": "stream",
     "text": [
      "Accuracy: 0.921146953405018\n"
     ]
    },
    {
     "name": "stderr",
     "output_type": "stream",
     "text": [
      "c:\\users\\memo_\\documents\\proyectos\\python\\text_mining\\text_mining_venv\\lib\\site-packages\\sklearn\\linear_model\\logistic.py:432: FutureWarning: Default solver will be changed to 'lbfgs' in 0.22. Specify a solver to silence this warning.\n",
      "  FutureWarning)\n",
      "c:\\users\\memo_\\documents\\proyectos\\python\\text_mining\\text_mining_venv\\lib\\site-packages\\sklearn\\linear_model\\logistic.py:469: FutureWarning: Default multi_class will be changed to 'auto' in 0.22. Specify the multi_class option to silence this warning.\n",
      "  \"this warning.\", FutureWarning)\n"
     ]
    }
   ],
   "source": [
    "#classify with logisticRegresion\n",
    "from sklearn.linear_model import LogisticRegression\n",
    "logistic_classifier = LogisticRegression()\n",
    "logistic_classifier.fit(X_train, y_train)\n",
    "score = logistic_classifier.score(X_test, y_test)\n",
    "print(\"Accuracy:\", score)"
   ]
  },
  {
   "cell_type": "code",
   "execution_count": 49,
   "metadata": {},
   "outputs": [
    {
     "data": {
      "text/plain": [
       "array([ 8, 16, 15, 11, 10, 11,  8,  1, 19, 11,  8, 10, 16,  8, 10, 20, 11,\n",
       "       18, 20, 13, 17,  0, 19, 20, 18, 11, 15,  8, 17, 11, 16,  9, 17, 11,\n",
       "       19, 11,  9, 18, 11, 11,  1, 18, 12, 16, 15, 12,  8, 19, 12, 18, 10,\n",
       "       20, 10, 15, 19, 10, 16, 13,  8, 11, 11, 11, 12, 18,  9, 18,  8, 15,\n",
       "        8, 13, 20,  8, 11,  8, 15, 13, 17, 11, 12,  1, 18, 19,  8, 12, 17,\n",
       "       18, 13, 18, 11, 11, 20, 11, 13, 19, 13, 19, 11,  9,  8, 12, 11, 16,\n",
       "        8, 20, 18, 11, 13, 13, 19, 18, 11,  8,  7, 13,  8, 19, 11, 10, 20,\n",
       "       20, 11, 10,  8, 16, 11, 18, 19, 18, 13, 11, 16, 11,  6, 12, 20,  8,\n",
       "       17, 15,  8,  8, 19, 15,  8, 11,  8, 11,  9, 17,  9, 11, 10,  0, 16,\n",
       "        1, 12,  8, 11, 18, 18, 13, 15, 11, 11,  0,  8, 11, 18,  4, 20, 11,\n",
       "        8, 13,  9, 18,  9,  9,  8, 13,  8, 20, 13, 11, 13,  4, 16,  8, 11,\n",
       "        8, 17,  8,  9,  8, 19, 19, 12,  8, 11,  6,  9, 16, 17, 13,  8, 13,\n",
       "        3, 10, 11, 16, 17,  9, 13,  8,  8, 19, 20, 19,  8, 18, 20, 11, 15,\n",
       "       12, 20,  8, 18, 11, 11, 17, 11,  8, 20, 20, 17, 11,  8, 11, 10,  8,\n",
       "       11, 11, 11, 11, 11, 11, 13, 11,  0, 18, 18, 10, 19, 11, 16, 11, 19,\n",
       "       11, 17, 15, 16, 20, 20, 20, 12,  8,  1, 12, 20,  8,  8, 19,  0, 20,\n",
       "       20, 10, 18, 10,  1, 10, 17], dtype=int64)"
      ]
     },
     "execution_count": 49,
     "metadata": {},
     "output_type": "execute_result"
    }
   ],
   "source": [
    "logistic_y_pred = logistic_classifier.predict(X_test)\n",
    "logistic_y_pred"
   ]
  },
  {
   "cell_type": "code",
   "execution_count": 50,
   "metadata": {},
   "outputs": [
    {
     "name": "stdout",
     "output_type": "stream",
     "text": [
      "              precision    recall  f1-score   support\n",
      "\n",
      "           0       0.60      1.00      0.75         3\n",
      "           1       1.00      0.75      0.86         8\n",
      "           3       1.00      1.00      1.00         1\n",
      "           4       1.00      0.67      0.80         3\n",
      "           5       0.00      0.00      0.00         1\n",
      "           6       1.00      1.00      1.00         2\n",
      "           7       1.00      0.50      0.67         2\n",
      "           8       0.81      0.97      0.89        36\n",
      "           9       1.00      1.00      1.00        12\n",
      "          10       1.00      1.00      1.00        15\n",
      "          11       0.91      0.93      0.92        54\n",
      "          12       0.85      0.79      0.81        14\n",
      "          13       1.00      1.00      1.00        20\n",
      "          14       0.00      0.00      0.00         1\n",
      "          15       1.00      0.92      0.96        12\n",
      "          16       0.86      1.00      0.92        12\n",
      "          17       0.93      0.72      0.81        18\n",
      "          18       0.96      0.96      0.96        23\n",
      "          19       0.95      1.00      0.97        18\n",
      "          20       1.00      0.96      0.98        24\n",
      "\n",
      "    accuracy                           0.92       279\n",
      "   macro avg       0.84      0.81      0.81       279\n",
      "weighted avg       0.92      0.92      0.92       279\n",
      "\n"
     ]
    }
   ],
   "source": [
    "from sklearn.metrics import classification_report\n",
    "print(classification_report(y_test, logistic_y_pred))\n"
   ]
  },
  {
   "cell_type": "code",
   "execution_count": 51,
   "metadata": {},
   "outputs": [
    {
     "name": "stdout",
     "output_type": "stream",
     "text": [
      "[[ 3  0  0  0  0  0  0  0  0  0  0  0  0  0  0  0  0  0  0  0]\n",
      " [ 0  6  0  0  0  0  0  2  0  0  0  0  0  0  0  0  0  0  0  0]\n",
      " [ 0  0  1  0  0  0  0  0  0  0  0  0  0  0  0  0  0  0  0  0]\n",
      " [ 0  0  0  2  0  0  0  1  0  0  0  0  0  0  0  0  0  0  0  0]\n",
      " [ 0  0  0  0  0  0  0  1  0  0  0  0  0  0  0  0  0  0  0  0]\n",
      " [ 0  0  0  0  0  2  0  0  0  0  0  0  0  0  0  0  0  0  0  0]\n",
      " [ 0  0  0  0  0  0  1  1  0  0  0  0  0  0  0  0  0  0  0  0]\n",
      " [ 1  0  0  0  0  0  0 35  0  0  0  0  0  0  0  0  0  0  0  0]\n",
      " [ 0  0  0  0  0  0  0  0 12  0  0  0  0  0  0  0  0  0  0  0]\n",
      " [ 0  0  0  0  0  0  0  0  0 15  0  0  0  0  0  0  0  0  0  0]\n",
      " [ 0  0  0  0  0  0  0  0  0  0 50  2  0  0  0  0  1  0  1  0]\n",
      " [ 0  0  0  0  0  0  0  0  0  0  3 11  0  0  0  0  0  0  0  0]\n",
      " [ 0  0  0  0  0  0  0  0  0  0  0  0 20  0  0  0  0  0  0  0]\n",
      " [ 1  0  0  0  0  0  0  0  0  0  0  0  0  0  0  0  0  0  0  0]\n",
      " [ 0  0  0  0  0  0  0  0  0  0  0  0  0  0 11  1  0  0  0  0]\n",
      " [ 0  0  0  0  0  0  0  0  0  0  0  0  0  0  0 12  0  0  0  0]\n",
      " [ 0  0  0  0  0  0  0  2  0  0  1  0  0  0  0  1 13  1  0  0]\n",
      " [ 0  0  0  0  0  0  0  1  0  0  0  0  0  0  0  0  0 22  0  0]\n",
      " [ 0  0  0  0  0  0  0  0  0  0  0  0  0  0  0  0  0  0 18  0]\n",
      " [ 0  0  0  0  0  0  0  0  0  0  1  0  0  0  0  0  0  0  0 23]]\n"
     ]
    }
   ],
   "source": [
    "from sklearn.metrics import confusion_matrix\n",
    "print(confusion_matrix(y_test, logistic_y_pred))"
   ]
  },
  {
   "cell_type": "code",
   "execution_count": null,
   "metadata": {},
   "outputs": [],
   "source": []
  }
 ],
 "metadata": {
  "kernelspec": {
   "display_name": "Python 3",
   "language": "python",
   "name": "python3"
  },
  "language_info": {
   "codemirror_mode": {
    "name": "ipython",
    "version": 3
   },
   "file_extension": ".py",
   "mimetype": "text/x-python",
   "name": "python",
   "nbconvert_exporter": "python",
   "pygments_lexer": "ipython3",
   "version": "3.6.6"
  }
 },
 "nbformat": 4,
 "nbformat_minor": 2
}
